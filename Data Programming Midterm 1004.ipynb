{
 "cells": [
  {
   "cell_type": "markdown",
   "id": "0e6c7ae0-9898-4a63-a3cd-47c1c964d0b8",
   "metadata": {},
   "source": [
    "Question 1：\n",
    "\n",
    "__int()__: Constructor that takes as input a pair of Point objects that represent the ends points of the line segment\n",
    "\n",
    "Length():: returns the length if the segment \n",
    "\n",
    "Slope() returns the slope of the segment of none if the slope is unbounded \n",
    "\n",
    " \n",
    "\n",
    ">>> p1 = Point(3,4)\n",
    "\n",
    ">>> p2 = Point()\n",
    "\n",
    ">>> s = Segment(p1,p2)\n",
    "\n",
    ">>> s.length()\n",
    "\n",
    "5.0\n",
    "\n",
    ">>> s.slope()\n",
    "\n",
    "0.75"
   ]
  },
  {
   "cell_type": "code",
   "execution_count": 31,
   "id": "3d59d8b1-e5fd-4ab4-9c99-fe321f287989",
   "metadata": {},
   "outputs": [
    {
     "name": "stdout",
     "output_type": "stream",
     "text": [
      "5.0\n",
      "1.3333333333333333\n"
     ]
    }
   ],
   "source": [
    "class Point:\n",
    "    def __init__(self, x=0, y=0):\n",
    "        self.x = x\n",
    "        self.y = y\n",
    "class Segment:\n",
    "    def __init__(self, p1, p2):\n",
    "        self.p1 = p1 \n",
    "        self.p2 = p2 \n",
    "\n",
    "    def length(self):\n",
    "        return math.sqrt((self.p2.x - self.p1.x) ** 2 + (self.p2.y - self.p1.y) ** 2)\n",
    "\n",
    "    def slope(self):\n",
    "        try:\n",
    "            return (self.p2.y - self.p1.y) / (self.p2.x - self.p1.x)\n",
    "        except ZeroDivisionError:\n",
    "            return None\n",
    "\n",
    "p1 = Point(3,4)\n",
    "p2 = Point()\n",
    "s = Segment(p1,p2)\n",
    "\n",
    "print(s.length())\n",
    "print(s.slope())\n"
   ]
  },
  {
   "cell_type": "markdown",
   "id": "6321d846-c72e-4488-b087-9c48ff4b0e82",
   "metadata": {},
   "source": [
    "Question3：\n",
    "\n",
    "Develop a recursive function tough() that takes two nonnegative integer arguments and outputs a pattern as shown below. Hint: The first argument represents the indentation of the pattern, where the second argument -- always a pattern of 2 indicates the number *s in the longest line of *s in the pattern"
   ]
  },
  {
   "cell_type": "code",
   "execution_count": 28,
   "id": "424c9558-5da2-456b-8c39-fa2f769f3899",
   "metadata": {},
   "outputs": [
    {
     "name": "stdout",
     "output_type": "stream",
     "text": [
      "-\n",
      "*\n",
      "-\n",
      " *\n",
      "**\n",
      " *\n",
      "-\n",
      "   *\n",
      "  **\n",
      "   *\n",
      "****\n",
      "   *\n",
      "  **\n",
      "   *\n"
     ]
    }
   ],
   "source": [
    "def tough(indentation, n):\n",
    "    if n == 0:\n",
    "        return\n",
    "    tough(indentation + n // 2, n // 2)\n",
    "    print(' ' * indentation + '*' * n)\n",
    "    tough(indentation + n // 2, n // 2)\n",
    "\n",
    "tough(0, 0)\n",
    "print(\"-\")\n",
    "tough(0, 1)\n",
    "print(\"-\")\n",
    "tough(0, 2)\n",
    "print(\"-\")\n",
    "tough(0, 4)"
   ]
  }
 ],
 "metadata": {
  "kernelspec": {
   "display_name": "Python 3 (ipykernel)",
   "language": "python",
   "name": "python3"
  },
  "language_info": {
   "codemirror_mode": {
    "name": "ipython",
    "version": 3
   },
   "file_extension": ".py",
   "mimetype": "text/x-python",
   "name": "python",
   "nbconvert_exporter": "python",
   "pygments_lexer": "ipython3",
   "version": "3.12.7"
  }
 },
 "nbformat": 4,
 "nbformat_minor": 5
}
